{
 "cells": [
  {
   "cell_type": "code",
   "execution_count": 4,
   "metadata": {},
   "outputs": [
    {
     "data": {
      "text/plain": [
       "'{\"prompt\": [\"cheese\", \"onion\", \"chicken\"], \"title\": \"baked chicken and cheese stuffed bell peppers\", \"ingredients\": [\"6 large bell peppers (any color)\", \"1 tablespoon olive oil\", \"1 small onion, finely chopped\", \"120g cooked and chopped chicken\", \"30g reduced-fat cheese, grated\"], \"method\": [\"preheat the oven to 180°c (350°f).\", \"cut off the tops of the bell peppers and remove the seeds and membranes. set aside.\", \"heat the olive oil in a non-stick frying pan over medium heat.\", \"add the onion and cook for 2-3 minutes, until softened.\", \"add the cooked chicken and cheese, stirring until the cheese has melted.\", \"remove from heat and let cool slightly.\", \"stuff the bell peppers with the chicken and cheese mixture, filling to the top.\", \"place the stuffed peppers in a baking dish and bake for 20-25 minutes, until the peppers are tender and the cheese is golden.\", \"serve hot and enjoy!\"]}'"
      ]
     },
     "execution_count": 4,
     "metadata": {},
     "output_type": "execute_result"
    }
   ],
   "source": [
    "output = '{\"prompt\": [\"cheese\", \"onion\", \"chicken\"], \"title\": \"baked chicken and cheese stuffed bell peppers\", \"ingredients\": [\"6 large bell peppers (any color)\", \"1 tablespoon olive oil\", \"1 small onion, finely chopped\", \"120g cooked and chopped chicken\", \"30g reduced-fat cheese, grated\"], \"method\": [\"preheat the oven to 180\\u00b0c (350\\u00b0f).\", \"cut off the tops of the bell peppers and remove the seeds and membranes. set aside.\", \"heat the olive oil in a non-stick frying pan over medium heat.\", \"add the onion and cook for 2-3 minutes, until softened.\", \"add the cooked chicken and cheese, stirring until the cheese has melted.\", \"remove from heat and let cool slightly.\", \"stuff the bell peppers with the chicken and cheese mixture, filling to the top.\", \"place the stuffed peppers in a baking dish and bake for 20-25 minutes, until the peppers are tender and the cheese is golden.\", \"serve hot and enjoy!\"]}'\n",
    "\n",
    "output"
   ]
  },
  {
   "cell_type": "code",
   "execution_count": 18,
   "metadata": {},
   "outputs": [
    {
     "name": "stdout",
     "output_type": "stream",
     "text": [
      "Baked chicken and cheese stuffed bell peppers\n",
      "\n",
      "Ingredients:\n",
      "1. 6 large bell peppers (any color)\n",
      "2. 1 tablespoon olive oil\n",
      "3. 1 small onion, finely chopped\n",
      "4. 120g cooked and chopped chicken\n",
      "5. 30g reduced-fat cheese, grated\n",
      "\n",
      "How to cook:\n",
      "1. preheat the oven to 180°c (350°f).\n",
      "2. cut off the tops of the bell peppers and remove the seeds and membranes. set aside.\n",
      "3. heat the olive oil in a non-stick frying pan over medium heat.\n",
      "4. add the onion and cook for 2-3 minutes, until softened.\n",
      "5. add the cooked chicken and cheese, stirring until the cheese has melted.\n",
      "6. remove from heat and let cool slightly.\n",
      "7. stuff the bell peppers with the chicken and cheese mixture, filling to the top.\n",
      "8. place the stuffed peppers in a baking dish and bake for 20-25 minutes, until the peppers are tender and the cheese is golden.\n",
      "9. serve hot and enjoy!\n",
      "\n"
     ]
    }
   ],
   "source": [
    "import json\n",
    "\n",
    "output = '{\"prompt\": [\"cheese\", \"onion\", \"chicken\"], \"title\": \"baked chicken and cheese stuffed bell peppers\", \"ingredients\": [\"6 large bell peppers (any color)\", \"1 tablespoon olive oil\", \"1 small onion, finely chopped\", \"120g cooked and chopped chicken\", \"30g reduced-fat cheese, grated\"], \"method\": [\"preheat the oven to 180\\u00b0c (350\\u00b0f).\", \"cut off the tops of the bell peppers and remove the seeds and membranes. set aside.\", \"heat the olive oil in a non-stick frying pan over medium heat.\", \"add the onion and cook for 2-3 minutes, until softened.\", \"add the cooked chicken and cheese, stirring until the cheese has melted.\", \"remove from heat and let cool slightly.\", \"stuff the bell peppers with the chicken and cheese mixture, filling to the top.\", \"place the stuffed peppers in a baking dish and bake for 20-25 minutes, until the peppers are tender and the cheese is golden.\", \"serve hot and enjoy!\"]}'\n",
    "\n",
    "output = json.loads(output)\n",
    "\n",
    "title = output['title']\n",
    "title = title[0].upper() + title[1:]\n",
    "\n",
    "ingredients = output['ingredients']\n",
    "method = output['method']\n",
    "\n",
    "ingredients_list = '\\n'.join([f\"{i+1}. {ingredient}\" for i, ingredient in enumerate(ingredients)])\n",
    "method_list = '\\n'.join([f\"{i+1}. {step}\" for i, step in enumerate(method)])\n",
    "\n",
    "receipt = f'''{title}\n",
    "\n",
    "Ingredients:\n",
    "{ingredients_list}\n",
    "\n",
    "How to cook:\n",
    "{method_list}\n",
    "'''\n",
    "\n",
    "print(receipt)\n"
   ]
  },
  {
   "cell_type": "code",
   "execution_count": 19,
   "metadata": {},
   "outputs": [
    {
     "name": "stdout",
     "output_type": "stream",
     "text": [
      "Запеченные фаршированные курицей и сыром перцы\n",
      "\n",
      "Ингредиенты:\n",
      "1. 6 крупных болгарских перцев (любого цвета)\n",
      "2. 1 столовая ложка оливкового масла\n",
      "3. 1 небольшая луковица, мелко нарезанная\n",
      "4. 120 г вареной и нарезанной курицы\n",
      "5. 30 г обезжиренного сыра, тертого\n",
      "\n",
      "Как готовить:\n",
      "1. разогреть духовку до 180 °C (350 °F).\n",
      "2. срезать верхушки болгарских перцев и удалить семена и перегородки. отложить в сторону.\n",
      "3. разогреть оливковое масло на сковороде с антипригарным покрытием на среднем огне.\n",
      "4. добавить лук и готовить 2-3 минуты, пока он не станет мягким.\n",
      "5. добавить вареную курицу и сыр, помешивая, пока сыр не расплавится.\n",
      "6. снять с огня и дать немного остыть.\n",
      "7. нафаршировать болгарские перцы смесью курицы и сыра, заполняя доверху.\n",
      "8. поместите фаршированные перцы в форму для выпечки и запекайте 20–25 минут, пока перцы не станут мягкими, а сыр не приобретет золотистый оттенок.\n",
      "9. подавайте горячими и наслаждайтесь!\n"
     ]
    }
   ],
   "source": [
    "from translator import Translator\n",
    "\n",
    "trns = Translator()\n",
    "print(trns.translate_to_ru(receipt))"
   ]
  },
  {
   "cell_type": "code",
   "execution_count": null,
   "metadata": {},
   "outputs": [],
   "source": []
  }
 ],
 "metadata": {
  "kernelspec": {
   "display_name": "Python 3",
   "language": "python",
   "name": "python3"
  },
  "language_info": {
   "codemirror_mode": {
    "name": "ipython",
    "version": 3
   },
   "file_extension": ".py",
   "mimetype": "text/x-python",
   "name": "python",
   "nbconvert_exporter": "python",
   "pygments_lexer": "ipython3",
   "version": "3.12.4"
  }
 },
 "nbformat": 4,
 "nbformat_minor": 2
}
